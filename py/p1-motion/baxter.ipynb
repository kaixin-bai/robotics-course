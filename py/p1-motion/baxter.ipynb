{
 "cells": [
  {
   "cell_type": "markdown",
   "metadata": {},
   "source": [
    "# Practical Course 1"
   ]
  },
  {
   "cell_type": "code",
   "execution_count": 1,
   "metadata": {},
   "outputs": [],
   "source": [
    "import sys\n",
    "sys.path.append('../../rai/rai/ry')\n",
    "import libry as ry\n",
    "import numpy as np"
   ]
  },
  {
   "cell_type": "code",
   "execution_count": 2,
   "metadata": {},
   "outputs": [],
   "source": [
    "class RaiRobot():\n",
    "    \n",
    "    def __init__(self, nodeName:str, fileName:str):\n",
    "        self.C = ry.Config()\n",
    "        self.D = self.C.view()\n",
    "        self.C.clear()\n",
    "        self.C.addFile(fileName)\n",
    "        self.q_home = self.C.getJointState()\n",
    "        self.q_zero = self.q_home * 0.\n",
    "        self.B = self.C.operate(nodeName)\n",
    "        self.B.sync(self.C)\n",
    "        self.real = False\n",
    "        self.B.sendToReal(self.real)\n",
    "        self.C.addObject(name=\"ball\", shape=ry.ST.sphere, size=[.1], pos=[.8,.8,1.5], color=[1,1,0])\n",
    "    \n",
    "    def getFrameNames(self)-> list:\n",
    "        return self.C.getFrameNames()\n",
    "    \n",
    "    def moveToPosition(self, pos:np.ndarray, frameName:str):\n",
    "        sigma = 1e-2\n",
    "        F = self.C.feature(ry.FS.position, [frameName])\n",
    "        self.inverseKinematics([pos], [F], sigma, 1000, 0.01)\n",
    "    \n",
    "    def gazeAt(self, frameName, goalFrameName):\n",
    "        sigma = 1e-2\n",
    "        F = self.C.feature(ry.FS.gazeAt, [frameName, goalFrameName])\n",
    "        self.inverseKinematics([0, 0], F, sigma, 1000, 0.01)\n",
    "        \n",
    "    def inverseKinematics(self, task, features, sigma, steps, stepsize):\n",
    "        q = self.C.getJointState()\n",
    "        n = self.C.getJointDimension()\n",
    "        W = sigma * np.eye(n)\n",
    "        y, J = self._evalFeatures(features)\n",
    "        for i in range(steps):\n",
    "            q += stepsize * np.linalg.inv(J.T @ J + W) @ J.T @ (task - y)\n",
    "            self.C.setJointState(q)\n",
    "            self.B.move([q], [10.0], False)\n",
    "            y, J = self._evalFeatures(features)\n",
    "    \n",
    "    \n",
    "    def _evalFeatures(self, features):\n",
    "        y_temp = list(map(lambda f: f.eval(self.C), features))\n",
    "        print(y_temp)\n",
    "        y, J = tuple(map(lambda x: np.vstack(list(x)), zip(*y_temp)))\n",
    "        return np.squeeze(y), np.squeeze(J)\n",
    "    \n",
    "    \n",
    "    def goHome(self):\n",
    "        self.B.move([self.q_home], [10.0], False)\n",
    "    \n",
    "    def sendToReal(self, val:bool):\n",
    "        self.real = val\n",
    "        self.B.sendToReal(val)\n",
    "    "
   ]
  },
  {
   "cell_type": "code",
   "execution_count": 3,
   "metadata": {},
   "outputs": [],
   "source": [
    "def reset(robot):\n",
    "    robot.C = 0\n",
    "    robot.D = 0\n",
    "    robot.B = 0\n",
    "    return RaiRobot('', '../../rai-robotModels/baxter/baxter.g')"
   ]
  },
  {
   "cell_type": "code",
   "execution_count": 4,
   "metadata": {},
   "outputs": [],
   "source": [
    "robot =  RaiRobot('', '../../rai-robotModels/baxter/baxter.g')"
   ]
  },
  {
   "cell_type": "code",
   "execution_count": 10,
   "metadata": {},
   "outputs": [],
   "source": [
    "robot = reset(robot)"
   ]
  },
  {
   "cell_type": "code",
   "execution_count": 11,
   "metadata": {},
   "outputs": [
    {
     "name": "stdout",
     "output_type": "stream",
     "text": [
      "[(array([0.58181738, 0.19057273, 1.12082012]), array([[ 0.00000000e+00,  0.00000000e+00,  6.84542579e-02,\n",
      "         0.00000000e+00, -2.12535776e-01,  0.00000000e+00,\n",
      "        -2.54224773e-03,  0.00000000e+00, -5.59705733e-01,\n",
      "         0.00000000e+00,  2.28657101e-01,  0.00000000e+00,\n",
      "        -2.70622416e-01,  0.00000000e+00,  4.59701721e-17,\n",
      "         0.00000000e+00,  0.00000000e+00],\n",
      "       [ 0.00000000e+00,  0.00000000e+00,  5.17790057e-01,\n",
      "         0.00000000e+00, -1.80987858e-01,  0.00000000e+00,\n",
      "         5.06333753e-01,  0.00000000e+00,  6.46664085e-02,\n",
      "         0.00000000e+00,  2.37879597e-01,  0.00000000e+00,\n",
      "         2.60814624e-01,  0.00000000e+00,  1.50920942e-16,\n",
      "         0.00000000e+00,  0.00000000e+00],\n",
      "       [ 0.00000000e+00,  0.00000000e+00, -1.59139758e-08,\n",
      "         0.00000000e+00, -2.80838774e-01,  0.00000000e+00,\n",
      "        -2.09540848e-01,  0.00000000e+00, -2.75166778e-01,\n",
      "         0.00000000e+00,  1.65687755e-02,  0.00000000e+00,\n",
      "        -9.82575642e-03,  0.00000000e+00,  5.20417043e-18,\n",
      "         0.00000000e+00,  0.00000000e+00]]))]\n"
     ]
    },
    {
     "ename": "ValueError",
     "evalue": "matmul: Input operand 1 has a mismatch in its core dimension 0, with gufunc signature (n?,k),(k,m?)->(n?,m?) (size 1 is different from 3)",
     "output_type": "error",
     "traceback": [
      "\u001b[0;31m---------------------------------------------------------------------------\u001b[0m",
      "\u001b[0;31mValueError\u001b[0m                                Traceback (most recent call last)",
      "\u001b[0;32m<ipython-input-11-ef3a86111023>\u001b[0m in \u001b[0;36m<module>\u001b[0;34m\u001b[0m\n\u001b[0;32m----> 1\u001b[0;31m \u001b[0mrobot\u001b[0m\u001b[0;34m.\u001b[0m\u001b[0mmoveToPosition\u001b[0m\u001b[0;34m(\u001b[0m\u001b[0;34m[\u001b[0m\u001b[0;36m.8\u001b[0m\u001b[0;34m,\u001b[0m \u001b[0;36m.8\u001b[0m\u001b[0;34m,\u001b[0m \u001b[0;36m1.5\u001b[0m\u001b[0;34m]\u001b[0m\u001b[0;34m,\u001b[0m \u001b[0;34m'baxterL'\u001b[0m\u001b[0;34m)\u001b[0m\u001b[0;34m\u001b[0m\u001b[0m\n\u001b[0m",
      "\u001b[0;32m<ipython-input-7-bd6a1a873fdb>\u001b[0m in \u001b[0;36mmoveToPosition\u001b[0;34m(self, pos, frameName)\u001b[0m\n\u001b[1;32m     20\u001b[0m         \u001b[0msigma\u001b[0m \u001b[0;34m=\u001b[0m \u001b[0;36m1e-2\u001b[0m\u001b[0;34m\u001b[0m\u001b[0m\n\u001b[1;32m     21\u001b[0m         \u001b[0mF\u001b[0m \u001b[0;34m=\u001b[0m \u001b[0mself\u001b[0m\u001b[0;34m.\u001b[0m\u001b[0mC\u001b[0m\u001b[0;34m.\u001b[0m\u001b[0mfeature\u001b[0m\u001b[0;34m(\u001b[0m\u001b[0mry\u001b[0m\u001b[0;34m.\u001b[0m\u001b[0mFS\u001b[0m\u001b[0;34m.\u001b[0m\u001b[0mposition\u001b[0m\u001b[0;34m,\u001b[0m \u001b[0;34m[\u001b[0m\u001b[0mframeName\u001b[0m\u001b[0;34m]\u001b[0m\u001b[0;34m)\u001b[0m\u001b[0;34m\u001b[0m\u001b[0m\n\u001b[0;32m---> 22\u001b[0;31m         \u001b[0mself\u001b[0m\u001b[0;34m.\u001b[0m\u001b[0minverseKinematics\u001b[0m\u001b[0;34m(\u001b[0m\u001b[0;34m[\u001b[0m\u001b[0mpos\u001b[0m\u001b[0;34m]\u001b[0m\u001b[0;34m,\u001b[0m \u001b[0;34m[\u001b[0m\u001b[0mF\u001b[0m\u001b[0;34m]\u001b[0m\u001b[0;34m,\u001b[0m \u001b[0msigma\u001b[0m\u001b[0;34m,\u001b[0m \u001b[0;36m1000\u001b[0m\u001b[0;34m,\u001b[0m \u001b[0;36m0.01\u001b[0m\u001b[0;34m)\u001b[0m\u001b[0;34m\u001b[0m\u001b[0m\n\u001b[0m\u001b[1;32m     23\u001b[0m \u001b[0;34m\u001b[0m\u001b[0m\n\u001b[1;32m     24\u001b[0m     \u001b[0;32mdef\u001b[0m \u001b[0mgazeAt\u001b[0m\u001b[0;34m(\u001b[0m\u001b[0mself\u001b[0m\u001b[0;34m,\u001b[0m \u001b[0mframeName\u001b[0m\u001b[0;34m,\u001b[0m \u001b[0mgoalFrameName\u001b[0m\u001b[0;34m)\u001b[0m\u001b[0;34m:\u001b[0m\u001b[0;34m\u001b[0m\u001b[0m\n",
      "\u001b[0;32m<ipython-input-7-bd6a1a873fdb>\u001b[0m in \u001b[0;36minverseKinematics\u001b[0;34m(self, task, features, sigma, steps, stepsize)\u001b[0m\n\u001b[1;32m     33\u001b[0m         \u001b[0my\u001b[0m\u001b[0;34m,\u001b[0m \u001b[0mJ\u001b[0m \u001b[0;34m=\u001b[0m \u001b[0mself\u001b[0m\u001b[0;34m.\u001b[0m\u001b[0m_evalFeatures\u001b[0m\u001b[0;34m(\u001b[0m\u001b[0mfeatures\u001b[0m\u001b[0;34m)\u001b[0m\u001b[0;34m\u001b[0m\u001b[0m\n\u001b[1;32m     34\u001b[0m         \u001b[0;32mfor\u001b[0m \u001b[0mi\u001b[0m \u001b[0;32min\u001b[0m \u001b[0mrange\u001b[0m\u001b[0;34m(\u001b[0m\u001b[0msteps\u001b[0m\u001b[0;34m)\u001b[0m\u001b[0;34m:\u001b[0m\u001b[0;34m\u001b[0m\u001b[0m\n\u001b[0;32m---> 35\u001b[0;31m             \u001b[0mq\u001b[0m \u001b[0;34m+=\u001b[0m \u001b[0mstepsize\u001b[0m \u001b[0;34m*\u001b[0m \u001b[0mnp\u001b[0m\u001b[0;34m.\u001b[0m\u001b[0mlinalg\u001b[0m\u001b[0;34m.\u001b[0m\u001b[0minv\u001b[0m\u001b[0;34m(\u001b[0m\u001b[0mJ\u001b[0m\u001b[0;34m.\u001b[0m\u001b[0mT\u001b[0m \u001b[0;34m@\u001b[0m \u001b[0mJ\u001b[0m \u001b[0;34m+\u001b[0m \u001b[0mW\u001b[0m\u001b[0;34m)\u001b[0m \u001b[0;34m@\u001b[0m \u001b[0mJ\u001b[0m\u001b[0;34m.\u001b[0m\u001b[0mT\u001b[0m \u001b[0;34m@\u001b[0m \u001b[0;34m(\u001b[0m\u001b[0mtask\u001b[0m \u001b[0;34m-\u001b[0m \u001b[0my\u001b[0m\u001b[0;34m)\u001b[0m\u001b[0;34m\u001b[0m\u001b[0m\n\u001b[0m\u001b[1;32m     36\u001b[0m             \u001b[0mself\u001b[0m\u001b[0;34m.\u001b[0m\u001b[0mC\u001b[0m\u001b[0;34m.\u001b[0m\u001b[0msetJointState\u001b[0m\u001b[0;34m(\u001b[0m\u001b[0mq\u001b[0m\u001b[0;34m)\u001b[0m\u001b[0;34m\u001b[0m\u001b[0m\n\u001b[1;32m     37\u001b[0m             \u001b[0mself\u001b[0m\u001b[0;34m.\u001b[0m\u001b[0mB\u001b[0m\u001b[0;34m.\u001b[0m\u001b[0mmove\u001b[0m\u001b[0;34m(\u001b[0m\u001b[0;34m[\u001b[0m\u001b[0mq\u001b[0m\u001b[0;34m]\u001b[0m\u001b[0;34m,\u001b[0m \u001b[0;34m[\u001b[0m\u001b[0;36m10.0\u001b[0m\u001b[0;34m]\u001b[0m\u001b[0;34m,\u001b[0m \u001b[0;32mFalse\u001b[0m\u001b[0;34m)\u001b[0m\u001b[0;34m\u001b[0m\u001b[0m\n",
      "\u001b[0;31mValueError\u001b[0m: matmul: Input operand 1 has a mismatch in its core dimension 0, with gufunc signature (n?,k),(k,m?)->(n?,m?) (size 1 is different from 3)"
     ]
    }
   ],
   "source": [
    "robot.moveToPosition([.8, .8, 1.5], 'baxterL')"
   ]
  },
  {
   "cell_type": "code",
   "execution_count": 8,
   "metadata": {},
   "outputs": [],
   "source": [
    "robot.gazeAt('baxterL', 'ball')"
   ]
  },
  {
   "cell_type": "code",
   "execution_count": null,
   "metadata": {},
   "outputs": [],
   "source": []
  },
  {
   "cell_type": "code",
   "execution_count": null,
   "metadata": {},
   "outputs": [],
   "source": []
  },
  {
   "cell_type": "code",
   "execution_count": null,
   "metadata": {},
   "outputs": [],
   "source": []
  },
  {
   "cell_type": "code",
   "execution_count": 10,
   "metadata": {},
   "outputs": [
    {
     "data": {
      "text/plain": [
       "(array([0.79996444, 0.79995431, 1.49998545]),\n",
       " array([[ 0.00000000e+00,  0.00000000e+00, -5.40927181e-01,\n",
       "          0.00000000e+00,  4.74154699e-02,  0.00000000e+00,\n",
       "         -4.05030948e-01,  0.00000000e+00, -9.58926750e-02,\n",
       "          0.00000000e+00, -4.57530252e-02,  0.00000000e+00,\n",
       "         -3.06921971e-01,  0.00000000e+00,  1.38777878e-17,\n",
       "          0.00000000e+00,  0.00000000e+00],\n",
       "        [ 0.00000000e+00,  0.00000000e+00,  7.35936984e-01,\n",
       "          0.00000000e+00,  8.80550588e-02,  0.00000000e+00,\n",
       "          6.25745550e-01,  0.00000000e+00, -2.25001246e-01,\n",
       "          0.00000000e+00,  1.95998477e-01,  0.00000000e+00,\n",
       "          1.08974451e-01,  0.00000000e+00,  2.77555756e-17,\n",
       "          0.00000000e+00,  0.00000000e+00],\n",
       "        [ 0.00000000e+00,  0.00000000e+00,  1.25752616e-07,\n",
       "          0.00000000e+00, -7.56183274e-01,  0.00000000e+00,\n",
       "         -1.56386687e-01,  0.00000000e+00, -6.06819942e-01,\n",
       "          0.00000000e+00,  1.88474151e-01,  0.00000000e+00,\n",
       "         -1.87831974e-01,  0.00000000e+00,  4.16333634e-17,\n",
       "          0.00000000e+00,  0.00000000e+00]]))"
      ]
     },
     "execution_count": 10,
     "metadata": {},
     "output_type": "execute_result"
    }
   ],
   "source": [
    "F = robot.C.feature(ry.FS.position, ['baxterL'])\n",
    "F.eval(robot.C)"
   ]
  },
  {
   "cell_type": "code",
   "execution_count": 10,
   "metadata": {},
   "outputs": [],
   "source": [
    "def moveToPosition(pos):\n",
    "    q = np.zeros(C.getJointDimension())\n",
    "    C.setJointState(q)\n",
    "    sigma = 1e-2\n",
    "    W = sigma * np.eye(C.getJointDimension())\n",
    "    F = C.feature(FS.position, ['baxterR'])\n",
    "    y, J = F.eval(C)\n",
    "    stepsize = 0.1\n",
    "    for i in range(10):\n",
    "        \n",
    "        q += stepsize * np.linalg.inv(J.T @ J + W) @ J.T @ (pos - y)\n",
    "        C.setJointState(q)\n",
    "        B.move([q], [10.0], False)\n",
    "        y, J = F.eval(C)\n",
    "\n",
    "    "
   ]
  },
  {
   "cell_type": "code",
   "execution_count": 12,
   "metadata": {},
   "outputs": [],
   "source": []
  },
  {
   "cell_type": "code",
   "execution_count": null,
   "metadata": {},
   "outputs": [],
   "source": []
  }
 ],
 "metadata": {
  "kernelspec": {
   "display_name": "Python 3",
   "language": "python",
   "name": "python3"
  },
  "language_info": {
   "codemirror_mode": {
    "name": "ipython",
    "version": 3
   },
   "file_extension": ".py",
   "mimetype": "text/x-python",
   "name": "python",
   "nbconvert_exporter": "python",
   "pygments_lexer": "ipython3",
   "version": "3.5.2"
  }
 },
 "nbformat": 4,
 "nbformat_minor": 2
}
