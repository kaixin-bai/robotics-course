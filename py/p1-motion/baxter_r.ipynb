{
 "cells": [
  {
   "cell_type": "markdown",
   "metadata": {},
   "source": [
    "# Practical Course 1"
   ]
  },
  {
   "cell_type": "code",
   "execution_count": 667,
   "metadata": {},
   "outputs": [],
   "source": [
    "import sys\n",
    "sys.path.append('../../rai/rai/ry')\n",
    "import libry as ry\n",
    "import numpy as np"
   ]
  },
  {
   "cell_type": "code",
   "execution_count": 668,
   "metadata": {},
   "outputs": [],
   "source": [
    "class RaiRobot():\n",
    "    \n",
    "    def __init__(self, nodeName:str, fileName:str):\n",
    "        self.C = ry.Config()\n",
    "        self.D = self.C.view()\n",
    "        self.C.clear()\n",
    "        self.C.addFile(fileName)\n",
    "        self.q_home = self.C.getJointState()\n",
    "        self.q_zero = self.q_home * 0.\n",
    "        self.B = self.C.operate(nodeName)\n",
    "        self.B.sync(self.C)\n",
    "        self.real = False\n",
    "        self.B.sendToReal(self.real)\n",
    "        self.IK = self.C.komo_IK()\n",
    "        #self.C.addObject(name=\"ball\", shape=ry.ST.sphere, size=[.1], pos=[.8,.8,1.5], color=[1,1,0])\n",
    "    \n",
    "    def getFrameNames(self)-> list:\n",
    "        return self.C.getFrameNames()\n",
    "    \n",
    "    def moveToPosition(self, pose:np.ndarray, frameName:str):\n",
    "        self.IK.clearObjectives\n",
    "        self.IK.addObjective(type=ry.OT.none, feature=ry.FS.pose, frames=['l_shoulder_lift_joint', frameName], target=pose)\n",
    "        self.IK.optimize()\n",
    "        self.C.setFrameState(self.IK.getConfiguration(0))\n",
    "        self.q = self.IK.getConfiguration(0)\n",
    "        print(self.q)\n",
    "        print(self.q.shape)\n",
    "        self.B.move([self.C.getJointState()], [10.], False)\n",
    "        \n",
    "        \n",
    "        #self.inverseKinematics([obj])\n",
    "        \n",
    "    def inverseKinematics(self, objectives):\n",
    "        self.IK.clearObjectives()\n",
    "        for objective in objectives:\n",
    "            print(objective)\n",
    "            self.IK.addObjective(**objective)\n",
    "        self.IK.optimize()\n",
    "    \n",
    "    def goHome(self):\n",
    "        self.B.move([self.q_home], [10.0], False)\n",
    "    \n",
    "    def sendToReal(self, val:bool):\n",
    "        self.real = val\n",
    "        self.B.sendToReal(val)"
   ]
  },
  {
   "cell_type": "code",
   "execution_count": 669,
   "metadata": {},
   "outputs": [],
   "source": [
    "def reset(robot):\n",
    "    robot.C = 0\n",
    "    robot.D = 0\n",
    "    robot.B = 0\n",
    "    return RaiRobot('', '../../rai-robotModels/pr2/pr2.g')"
   ]
  },
  {
   "cell_type": "code",
   "execution_count": 670,
   "metadata": {},
   "outputs": [],
   "source": [
    "robot = RaiRobot('', '../../rai-robotModels/baxter/baxter.g')"
   ]
  },
  {
   "cell_type": "code",
   "execution_count": 671,
   "metadata": {},
   "outputs": [],
   "source": [
    "robot = reset(robot)"
   ]
  },
  {
   "cell_type": "code",
   "execution_count": 673,
   "metadata": {},
   "outputs": [
    {
     "name": "stdout",
     "output_type": "stream",
     "text": [
      "[ 0.03546437  0.10699348  1.12878805  0.06126077  0.366274    0.41119915\n",
      "  0.83246966]\n",
      "[[ 0.          0.          0.         ...,  0.          0.          0.        ]\n",
      " [ 0.21205477 -0.0304469   0.         ...,  0.          0.         -0.02301222]\n",
      " [ 0.16210773 -0.02814628  1.0875232  ..., -0.0162721  -0.70691953\n",
      "  -0.0162721 ]\n",
      " ..., \n",
      " [ 0.67875837 -0.27246411  1.12785686 ..., -0.93077296  0.33985782\n",
      "  -0.11955487]\n",
      " [ 0.18394318 -0.27764103  0.85627088 ..., -0.06486709  0.47088902\n",
      "  -0.23783895]\n",
      " [ 0.18063704 -0.28018989  0.85009255 ..., -0.06486709  0.47088902\n",
      "  -0.23783895]]\n",
      "(164, 7)\n"
     ]
    }
   ],
   "source": [
    "des_pose = getPose('pr2L') + [0,0,0.1,0,0,0,0]\n",
    "print(des_pose)\n",
    "robot.moveToPosition(des_pose, 'pr2L')\n"
   ]
  },
  {
   "cell_type": "code",
   "execution_count": null,
   "metadata": {},
   "outputs": [],
   "source": [
    "robot.gazeAt('baxterL', 'ball')"
   ]
  },
  {
   "cell_type": "code",
   "execution_count": null,
   "metadata": {},
   "outputs": [],
   "source": [
    "def getIK(q):\n",
    "    IK.clearObjectives()\n",
    "    IK.addObjective(type=OT.eq, feature=FS.positionDiff, frames=['hand', 'ball'], target=[.1, .1, .1])\n",
    "    IK.optimize()\n",
    "    C.setFrameState( IK.getConfiguration(0) )\n",
    "    "
   ]
  },
  {
   "cell_type": "code",
   "execution_count": 17,
   "metadata": {},
   "outputs": [],
   "source": [
    "def getPose(name):\n",
    "    return robot.C.getFrameState(name)\n",
    "    #print('frame state: ', X0) "
   ]
  },
  {
   "cell_type": "code",
   "execution_count": 9,
   "metadata": {},
   "outputs": [
    {
     "data": {
      "text/plain": [
       "array([ 0.58181738,  0.19057273,  1.12082012,  0.6067361 ,  0.02677854,\n",
       "       -0.00911642, -0.79440008])"
      ]
     },
     "execution_count": 9,
     "metadata": {},
     "output_type": "execute_result"
    }
   ],
   "source": [
    "getPose('baxterL')"
   ]
  },
  {
   "cell_type": "code",
   "execution_count": 645,
   "metadata": {},
   "outputs": [
    {
     "data": {
      "text/plain": [
       "164"
      ]
     },
     "execution_count": 645,
     "metadata": {},
     "output_type": "execute_result"
    }
   ],
   "source": [
    "len(robot.C.getFrameNames())\n"
   ]
  },
  {
   "cell_type": "code",
   "execution_count": 8,
   "metadata": {},
   "outputs": [
    {
     "data": {
      "text/plain": [
       "array([ 0.68181738,  0.19057273,  1.12082012,  0.6067361 ,  0.02677854,\n",
       "       -0.00911642, -0.79440008])"
      ]
     },
     "execution_count": 8,
     "metadata": {},
     "output_type": "execute_result"
    }
   ],
   "source": []
  },
  {
   "cell_type": "code",
   "execution_count": null,
   "metadata": {},
   "outputs": [],
   "source": []
  },
  {
   "cell_type": "code",
   "execution_count": null,
   "metadata": {},
   "outputs": [],
   "source": [
    "F = robot.C.feature(ry.FS.position, ['baxterL'])\n",
    "F.eval(robot.C)"
   ]
  },
  {
   "cell_type": "code",
   "execution_count": null,
   "metadata": {},
   "outputs": [],
   "source": [
    "\n",
    "    "
   ]
  },
  {
   "cell_type": "code",
   "execution_count": null,
   "metadata": {},
   "outputs": [],
   "source": []
  },
  {
   "cell_type": "code",
   "execution_count": null,
   "metadata": {},
   "outputs": [],
   "source": []
  }
 ],
 "metadata": {
  "kernelspec": {
   "display_name": "Python 3",
   "language": "python",
   "name": "python3"
  },
  "language_info": {
   "codemirror_mode": {
    "name": "ipython",
    "version": 3
   },
   "file_extension": ".py",
   "mimetype": "text/x-python",
   "name": "python",
   "nbconvert_exporter": "python",
   "pygments_lexer": "ipython3",
   "version": "3.5.2"
  }
 },
 "nbformat": 4,
 "nbformat_minor": 2
}
