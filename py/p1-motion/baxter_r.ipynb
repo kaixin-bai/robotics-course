#%% Change working directory from the workspace root to the ipynb file location. Turn this addition off with the DataScience.changeDirOnImportExport setting
import os
try:
	os.chdir(os.path.join(os.getcwd(), 'py/p1-motion'))
	print(os.getcwd())
except:
	pass
#%% [markdown]
# # Practical Course 1

#%%
import sys
sys.path.append('../../rai/rai/ry')
import libry as ry
import numpy as np


#%%
class RaiRobot():
    
    def __init__(self, nodeName:str, fileName:str):
        self.C = ry.Config()
        self.D = self.C.view()
        self.C.clear()
        self.C.addFile(fileName)
        self.q_home = self.C.getJointState()
        self.q_zero = self.q_home * 0.
        self.B = self.C.operate(nodeName)
        self.B.sync(self.C)
        self.real = False
        self.B.sendToReal(self.real)
        self.IK = self.C.komo_IK()
        #self.C.addObject(name="ball", shape=ry.ST.sphere, size=[.1], pos=[.8,.8,1.5], color=[1,1,0])
    
    def getFrameNames(self)-> list:
        return self.C.getFrameNames()
    
    def moveToPosition(self, pose:np.ndarray, frameName:str):
        self.q_0 = self.C.getJointState()
        self.IK.clearObjectives
        self.IK.addObjective(type=ry.OT.eq, feature=ry.FS.pose, frames=[frameName], target=pose)
        self.IK.optimize()
        self.C.setFrameState(self.IK.getConfiguration(0))
        self.q = self.IK.getConfiguration(0)
        self.q_1 = self.C.getJointState()

        print('q1-q0: ', np.mean(np.abs(self.q_1 - self.q_0)))
        #self.C.setFrameState(self.q)  
        #self.q = self.IK.getConfiguration(0)
        print(self.q)
        print(self.q.shape)
        self.B.move([self.q_1], [ 10.], False)
        

    def inverseKinematics(self, objectives):
        self.IK.clearObjectives()
        for objective in objectives:
            print(objective)
            self.IK.addObjective(**objective)
        self.IK.optimize()
    
    def goHome(self):
        self.B.move([self.q_home], [10.0], False)
    
    def sendToReal(self, val:bool):
        self.real = val
        self.B.sendToReal(val)


#%%
def reset(robot):
    robot.C = 0
    robot.D = 0
    robot.B = 0
    return RaiRobot('', '../../rai-robotModels/pr2/pr2.g')


#%%
robot = RaiRobot('', '../../rai-robotModels/pr2/pr2.g')



#%%
robot = reset(robot)


#%%
ee_link = 'pr2R'
print('act pose: ', getPose(ee_link))
des_pose = getPose(ee_link) + [0,0,0.5,0,0,0,0]
print('pose_target: ', des_pose)
robot.moveToPosition(des_pose, ee_link)


#%%
robot.gazeAt('baxterL', 'ball')

#%%
def getPose(name):
    return robot.C.getFrameState(name)
    #print('frame state: ', X0) 


#%%
getPose('baxterL')


#%%
print('Number of frames: ', len(robot.C.getFrameNames()))
print(robot.C.getFrameNames())



#%%



#%%



#%%
F = robot.C.feature(ry.FS.position, ['baxterL'])
F.eval(robot.C)


#%%

    


#%%



#%%



