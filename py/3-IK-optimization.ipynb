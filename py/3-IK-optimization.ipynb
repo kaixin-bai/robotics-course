{
 "cells": [
  {
   "cell_type": "markdown",
   "metadata": {},
   "source": [
    "# Inverse Kinematics Optimization\n",
    "\n",
    "The previous doc explained features and how they define objectives of a constrained optimization problem. Here we show how to use this to solve IK optimization problems.\n",
    "\n",
    "At the bottom there is more general text explaining the basic concepts."
   ]
  },
  {
   "cell_type": "markdown",
   "metadata": {},
   "source": [
    "## Demo of features in Inverse Kinematics\n",
    "\n",
    "Let's setup a standard configuration. (Lock the window with \"Always on Top\".)"
   ]
  },
  {
   "cell_type": "code",
   "execution_count": 1,
   "metadata": {},
   "outputs": [],
   "source": [
    "import sys\n",
    "sys.path.append('../rai/rai/ry')\n",
    "import numpy as np\n",
    "import libry as ry"
   ]
  },
  {
   "cell_type": "code",
   "execution_count": 2,
   "metadata": {},
   "outputs": [],
   "source": [
    "C = ry.Config()\n",
    "D = C.view()\n",
    "C.addFile('../rai-robotModels/baxter/baxter_new.g')"
   ]
  },
  {
   "cell_type": "code",
   "execution_count": 3,
   "metadata": {},
   "outputs": [],
   "source": [
    "goal = C.addFrame(\"goal\")\n",
    "goal.setShape(ry.ST.sphere, [.05])\n",
    "goal.setColor([.5, 1, 1])\n",
    "goal.setPosition([0,.5,1])"
   ]
  },
  {
   "cell_type": "code",
   "execution_count": 4,
   "metadata": {},
   "outputs": [],
   "source": [
    "X0 = C.getFrameState()\n",
    "IK = C.komo_IK(False)"
   ]
  },
  {
   "cell_type": "code",
   "execution_count": 5,
   "metadata": {},
   "outputs": [],
   "source": [
    "IK.clearObjectives()\n",
    "IK.addObjective(type=ry.OT.eq, feature=ry.FS.positionDiff, frames=['baxterR', 'goal'])"
   ]
  },
  {
   "cell_type": "code",
   "execution_count": 6,
   "metadata": {},
   "outputs": [
    {
     "data": {
      "text/plain": [
       "[{'confs': [0],\n",
       "  'eq_sumOfAbs': 0.0012643714977090593,\n",
       "  'feature': 'posDiff',\n",
       "  'o1': 'baxterR',\n",
       "  'o2': 'goal',\n",
       "  'type': 'eq'}]"
      ]
     },
     "execution_count": 6,
     "metadata": {},
     "output_type": "execute_result"
    }
   ],
   "source": [
    "IK.optimize(True)\n",
    "C.setFrameState( IK.getConfiguration(0) )\n",
    "IK.getReport()"
   ]
  },
  {
   "cell_type": "code",
   "execution_count": 17,
   "metadata": {},
   "outputs": [
    {
     "data": {
      "text/plain": [
       "[{'confs': [0],\n",
       "  'eq_sumOfAbs': 0.000827185448897233,\n",
       "  'feature': 'posDiff',\n",
       "  'o1': 'baxterR',\n",
       "  'o2': 'goal',\n",
       "  'type': 'eq'}]"
      ]
     },
     "execution_count": 17,
     "metadata": {},
     "output_type": "execute_result"
    }
   ],
   "source": [
    "## you can iterate this for changing goal positions!\n",
    "## since the task is relative, and internal IK configurations are set to C\n",
    "goal.setPosition([.2,.8,1])\n",
    "IK.setConfigurations(C)\n",
    "\n",
    "IK.optimize(False)\n",
    "C.setFrameState( IK.getConfiguration(0) )\n",
    "IK.getReport()"
   ]
  },
  {
   "cell_type": "code",
   "execution_count": null,
   "metadata": {},
   "outputs": [],
   "source": []
  },
  {
   "cell_type": "markdown",
   "metadata": {},
   "source": [
    "The `positionDiff` between `pr2R` and `goal` is equal to zero:"
   ]
  },
  {
   "cell_type": "code",
   "execution_count": 5,
   "metadata": {},
   "outputs": [],
   "source": [
    "K.setFrameState(X0)\n",
    "IK = K.komo_IK()\n",
    "IK.addObjective(type=OT.eq, feature=FS.positionDiff, frames=['pr2R', 'goal'])\n",
    "IK.optimize()\n",
    "K.setFrameState( IK.getConfiguration(0) )"
   ]
  },
  {
   "cell_type": "markdown",
   "metadata": {},
   "source": [
    "The relative position of `goal` in `pr2R` coordinates equals [0,0,-.2] (which is 20cm straight in front of the yellow blob)"
   ]
  },
  {
   "cell_type": "code",
   "execution_count": 6,
   "metadata": {},
   "outputs": [],
   "source": [
    "K.setFrameState(X0)\n",
    "IK = K.komo_IK()\n",
    "IK.addObjective(type=OT.eq, feature=FS.positionRel, frames=['goal','pr2R'], target=[0,0,-.2])\n",
    "IK.optimize()\n",
    "K.setFrameState( IK.getConfiguration(0) )"
   ]
  },
  {
   "cell_type": "markdown",
   "metadata": {},
   "source": [
    "The distance between `pr2R` and `pr2L` is zero:"
   ]
  },
  {
   "cell_type": "code",
   "execution_count": 7,
   "metadata": {},
   "outputs": [
    {
     "data": {
      "text/plain": [
       "[{'feature': 'Transition', 'sos_value': 0.0022826646122485017, 'type': 'sos'},\n",
       " {'description': 'QuaternionNorms', 'sos_value': 0.0, 'type': 'sos'},\n",
       " {'eq_sumOfAbs': 0.001471138528675222,\n",
       "  'feature': 'dist',\n",
       "  'o1': 'pr2L',\n",
       "  'o2': 'pr2R',\n",
       "  'type': 'eq'}]"
      ]
     },
     "execution_count": 7,
     "metadata": {},
     "output_type": "execute_result"
    }
   ],
   "source": [
    "K.setFrameState(X0)\n",
    "IK = K.komo_IK()\n",
    "IK.addObjective(type=OT.eq, feature=FS.distance, frames=['pr2L','pr2R'])\n",
    "IK.optimize()\n",
    "K.setFrameState( IK.getConfiguration(0) )\n",
    "IK.getReport()"
   ]
  },
  {
   "cell_type": "markdown",
   "metadata": {},
   "source": [
    "The 3D difference between the z-vector of `pr2R` and the z-vector of `goal`:"
   ]
  },
  {
   "cell_type": "code",
   "execution_count": 8,
   "metadata": {},
   "outputs": [],
   "source": [
    "K.setFrameState(X0)\n",
    "IK = K.komo_IK()\n",
    "IK.addObjective(type=OT.eq, feature=FS.vectorZDiff, frames=['pr2R', 'goal'])\n",
    "IK.optimize()\n",
    "K.setFrameState( IK.getConfiguration(0) )"
   ]
  },
  {
   "cell_type": "markdown",
   "metadata": {},
   "source": [
    "The scalar product between the z-vector of `pr2R` and the z-vector of `goal` is zero:"
   ]
  },
  {
   "cell_type": "code",
   "execution_count": 11,
   "metadata": {},
   "outputs": [
    {
     "data": {
      "text/plain": [
       "[{'feature': 'Transition',\n",
       "  'scale': 0.1,\n",
       "  'sos_value': 0.025458634752304705,\n",
       "  'type': 'sos'},\n",
       " {'description': 'QuaternionNorms',\n",
       "  'scale': 3.0,\n",
       "  'sos_value': 0.0,\n",
       "  'type': 'sos'},\n",
       " {'eq_sumOfAbs': 0.0002765342580856034,\n",
       "  'feature': 'vecAlign',\n",
       "  'o1': 'pr2R',\n",
       "  'o2': 'goal',\n",
       "  'scale': 10.0,\n",
       "  'type': 'eq',\n",
       "  'v1': [0.0, 0.0, 1.0],\n",
       "  'v2': [0.0, 0.0, 1.0]}]"
      ]
     },
     "execution_count": 11,
     "metadata": {},
     "output_type": "execute_result"
    }
   ],
   "source": [
    "K.setFrameState(X0)\n",
    "IK = K.komo_IK()\n",
    "IK.addObjective(type=OT.eq, feature=FS.scalarProductZZ, frames=['pr2R', 'goal'])\n",
    "IK.optimize()\n",
    "K.setFrameState( IK.getConfiguration(0) )\n",
    "IK.getReport()"
   ]
  },
  {
   "cell_type": "markdown",
   "metadata": {},
   "source": [
    "etc etc"
   ]
  },
  {
   "cell_type": "markdown",
   "metadata": {},
   "source": [
    "## More explanations\n",
    "\n",
    "All methods to compute paths or configurations solve constrained optimization problems. To use them, you need to learn to define constrained optimization problems. Some definitions:\n",
    "\n",
    "* An objective defines either a sum-of-square cost term, or an equality constraint, or an inequality constraint in the optimization problem. An objective is defined by its type and its feature. The type can be `sos` (sum-of-squares), `eq`, or `ineq`, referring to the three cases.\n",
    "* A feature is a (differentiable mapping) from the decision variable (the full path, or robot configuration) to a feature space. If the feature space is, e.g., 3-dimensional, this defines 3 sum-of-squares terms, or 3 inequality, or 3 equality constraints, one for each dimension. For instance, the feature can be the 3-dim robot hand position in the 15th time slice of a path optimization problem. If you put an equality constraint on this feature, then this adds 3 equality constraints to the overall path optimization problem.\n",
    "* A feature is defined by the keyword for the feature map (e.g., `pos` for position), typically by a set of frame names that tell which objects we refer to (e.g., `pr2L` for the left hand of the pr2), optionally some modifiers (e.g., a scale or target, which linearly transform the feature map), and the set of configuration IDs or time slices the feature is to be computed from (e.g., `confs=[15]` if the feat is to be computed from the 15th time slice in a path optimization problem).\n",
    "* In path optimization problems, we often want to add objectives for a whole time interval rather than for a single time slice or specific configuration. E.g., avoid collisions from start to end. When adding objectives to the optimization problem we can specify whole intervals, with `times=[1., 2.]`, so that the objective is added to each configuration in this time interval.\n",
    "* Some features, especially velocity and acceleration, refer to a tuple of (consecutive) configurations. E.g., when you impose an acceleration feature, you need to specify `confs=[13, 14, 15]`. Or if you use `times=[1.,1.]`, the acceleration features is computed from the configuration that corresponds to time=1 and the two configurations *before*.\n",
    "* All kinematic feature maps (that depend on only one configuration) can be modified to become a velocity or acceleration features. E.g., the position feature map can be modified to become a velocity or acceleration feature.\n",
    "* The `sos`, `eq`, and `ineq` always refer to the feature map to be *zero*, e.g., constraining all features to be equal to zero with `eq`. This is natural for many features, esp. when they refer to differences (e.g. `posDiff` or `posRel`, which compute the relative position between two frames). However, when one aims to constrain the feature to a non-zero constant value, one can modify the objective with a `target` specification.\n",
    "* Finally, all features can be rescaled with a `scale` specification. Rescaling changes the costs that arise from `sos` objectives. Rescaling also has significant impact on the convergence behavior for `eq` and `ineq` constraints. As a guide: scale constraints so that if they *would* be treated as squared penalties (squaredPenalty optim mode, to be made accessible) convergence to reasonable approximate solutions is efficient. Then the AugLag will also converge efficiently to precise constraints."
   ]
  },
  {
   "cell_type": "code",
   "execution_count": 9,
   "metadata": {},
   "outputs": [],
   "source": [
    "# Designing a cylinder grasp"
   ]
  },
  {
   "cell_type": "code",
   "execution_count": 14,
   "metadata": {},
   "outputs": [],
   "source": [
    "D=0\n",
    "K=0"
   ]
  },
  {
   "cell_type": "code",
   "execution_count": 3,
   "metadata": {},
   "outputs": [],
   "source": [
    "K = Config()\n",
    "D = K.view()\n",
    "K.addFile('../rai-robotModels/pr2/pr2.g')\n",
    "K.addFile('../test/kitchen.g')\n",
    "K.setJointState([.7], [\"l_gripper_l_finger_joint\"])"
   ]
  },
  {
   "cell_type": "code",
   "execution_count": 4,
   "metadata": {},
   "outputs": [],
   "source": [
    "K.addFrame(\"goal\", \"\", \"shape:cylinder size:[0 0 .2 .03] color:[.5 1 1]\" )\n",
    "K.setFrameState([1,.5,1,1,0,0,0], [\"goal\"])\n",
    "X0 = K.getFrameState()"
   ]
  },
  {
   "cell_type": "code",
   "execution_count": 13,
   "metadata": {},
   "outputs": [
    {
     "data": {
      "text/plain": [
       "[{'dim': 25,\n",
       "  'feature': 'Transition',\n",
       "  'sos_value': 0.047423380028697316,\n",
       "  'type': 'sos'},\n",
       " {'description': 'QuaternionNorms', 'dim': 0, 'sos_value': 0.0, 'type': 'sos'},\n",
       " {'dim': 2,\n",
       "  'eq_sumOfAbs': 3.535857808223408e-05,\n",
       "  'feature': 'posDiff',\n",
       "  'o1': 'pr2L',\n",
       "  'o2': 'goal',\n",
       "  'type': 'eq'},\n",
       " {'dim': 1,\n",
       "  'feature': 'posDiff',\n",
       "  'inEq_sumOfPos': 0.0,\n",
       "  'o1': 'pr2L',\n",
       "  'o2': 'goal',\n",
       "  'type': 'ineq'},\n",
       " {'dim': 1,\n",
       "  'feature': 'posDiff',\n",
       "  'inEq_sumOfPos': 2.7922369217933674e-05,\n",
       "  'o1': 'pr2L',\n",
       "  'o2': 'goal',\n",
       "  'type': 'ineq'},\n",
       " {'dim': 1,\n",
       "  'feature': 'vecAlign',\n",
       "  'o1': 'pr2L',\n",
       "  'o2': 'goal',\n",
       "  'sos_value': 0.0011160744752153585,\n",
       "  'type': 'sos',\n",
       "  'v1': [0.0, 0.0, 1.0],\n",
       "  'v2': [0.0, 0.0, 1.0]},\n",
       " {'dim': 1,\n",
       "  'eq_sumOfAbs': 1.0789718045800534e-05,\n",
       "  'feature': 'vecAlign',\n",
       "  'o1': 'pr2L',\n",
       "  'o2': 'goal',\n",
       "  'type': 'eq',\n",
       "  'v1': [1.0, 0.0, 0.0],\n",
       "  'v2': [0.0, 0.0, 1.0]}]"
      ]
     },
     "execution_count": 13,
     "metadata": {},
     "output_type": "execute_result"
    }
   ],
   "source": [
    "K.setFrameState(X0)\n",
    "K.setFrameState([1,.5,1.2,1,0,0,0], [\"goal\"])\n",
    "IK = K.komo_IK()\n",
    "IK.addObjective(type=OT.eq, feature=FS.positionDiff, frames=['pr2L', 'goal'], scaleTrans=[[1,0,0],[0,1,0]])\n",
    "IK.addObjective(type=OT.ineq, feature=FS.positionDiff, frames=['pr2L', 'goal'], scaleTrans=[[0,0,1]], target=[0,0,.05])\n",
    "IK.addObjective(type=OT.ineq, feature=FS.positionDiff, frames=['pr2L', 'goal'], scaleTrans=[[0,0,-1]], target=[0,0,-.05])\n",
    "IK.addObjective(type=OT.sos, feature=FS.scalarProductZZ, frames=['pr2L', 'goal'], scale=[0.1])\n",
    "IK.addObjective(type=OT.eq, feature=FS.scalarProductXZ, frames=['pr2L', 'goal'])\n",
    "IK.optimize()\n",
    "K.setFrameState( IK.getConfiguration(0) )\n",
    "IK.getReport()"
   ]
  },
  {
   "cell_type": "code",
   "execution_count": null,
   "metadata": {},
   "outputs": [],
   "source": []
  }
 ],
 "metadata": {
  "kernelspec": {
   "display_name": "Python 3",
   "language": "python",
   "name": "python3"
  },
  "language_info": {
   "codemirror_mode": {
    "name": "ipython",
    "version": 3
   },
   "file_extension": ".py",
   "mimetype": "text/x-python",
   "name": "python",
   "nbconvert_exporter": "python",
   "pygments_lexer": "ipython3",
   "version": "3.5.2"
  }
 },
 "nbformat": 4,
 "nbformat_minor": 2
}
